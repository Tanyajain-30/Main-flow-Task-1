{
 "cells": [
  {
   "cell_type": "markdown",
   "id": "4a46b8e0-fcaa-443c-adef-202b8cf4fba1",
   "metadata": {},
   "source": [
    "# Creating a List"
   ]
  },
  {
   "cell_type": "code",
   "execution_count": 64,
   "id": "1e007326-e8ac-41cb-ab7b-a2f14bc92bbd",
   "metadata": {},
   "outputs": [
    {
     "name": "stdout",
     "output_type": "stream",
     "text": [
      "['C', 'C++', 'Java', 'Python', 'R Language', 'Ruby', 'javascript', 'GO']\n"
     ]
    }
   ],
   "source": [
    "MyList = ['C','C++','Java','Python','R Language','Ruby','javascript','GO']\n",
    "print(MyList)"
   ]
  },
  {
   "cell_type": "markdown",
   "id": "b7866fb4-7fad-4967-87c4-959a2267f158",
   "metadata": {},
   "source": [
    "# Adding a new items"
   ]
  },
  {
   "cell_type": "code",
   "execution_count": 65,
   "id": "142f8738-b11e-4be7-bee9-a12ff7261323",
   "metadata": {},
   "outputs": [
    {
     "name": "stdout",
     "output_type": "stream",
     "text": [
      "['C', 'C++', 'Java', 'Python', 'R Language', 'Ruby', 'javascript', 'GO', 'COBOL']\n"
     ]
    }
   ],
   "source": [
    "#Append\n",
    "MyList.append('COBOL')\n",
    "print(MyList)"
   ]
  },
  {
   "cell_type": "code",
   "execution_count": 66,
   "id": "df3154bb-c187-410a-84fc-f5d1f0895f92",
   "metadata": {},
   "outputs": [
    {
     "name": "stdout",
     "output_type": "stream",
     "text": [
      "['C', 'C++', 'Java', 'Python', 'R Language', 'Ruby', 'javascript', 'GO', 'COBOL', 'SQL']\n"
     ]
    }
   ],
   "source": [
    "#Extend\n",
    "MyList.extend(['SQL'])\n",
    "print(MyList)"
   ]
  },
  {
   "cell_type": "code",
   "execution_count": 67,
   "id": "be07fbc8-26c7-4887-adb0-3caf236706f7",
   "metadata": {},
   "outputs": [
    {
     "name": "stdout",
     "output_type": "stream",
     "text": [
      "['C', 'C++', 'GO', 'Java', 'Python', 'R Language', 'Ruby', 'javascript', 'GO', 'COBOL', 'SQL']\n"
     ]
    }
   ],
   "source": [
    "#Insert\n",
    "MyList.insert(2,'GO')\n",
    "print(MyList)"
   ]
  },
  {
   "cell_type": "markdown",
   "id": "efd67e98-73df-4d8e-ae49-c53676dd64d6",
   "metadata": {},
   "source": [
    "# Remove an items from a List"
   ]
  },
  {
   "cell_type": "code",
   "execution_count": 68,
   "id": "77a91828-f885-42c2-92a1-501920e54fbc",
   "metadata": {},
   "outputs": [
    {
     "name": "stdout",
     "output_type": "stream",
     "text": [
      "Original List is: ['C', 'C++', 'GO', 'Java', 'Python', 'R Language', 'Ruby', 'javascript', 'GO', 'COBOL', 'SQL']\n",
      "After removing a item: ['C++', 'GO', 'Java', 'Python', 'R Language', 'Ruby', 'javascript', 'GO', 'COBOL', 'SQL']\n"
     ]
    }
   ],
   "source": [
    "# Remove\n",
    "print('Original List is:', MyList)\n",
    "MyList.remove('C')\n",
    "print('After removing a item:',MyList)"
   ]
  },
  {
   "cell_type": "code",
   "execution_count": 69,
   "id": "46f5b75b-51c2-457a-b6d2-83ff386858c6",
   "metadata": {},
   "outputs": [
    {
     "name": "stdout",
     "output_type": "stream",
     "text": [
      "Original List is: ['C++', 'GO', 'Java', 'Python', 'R Language', 'Ruby', 'javascript', 'GO', 'COBOL', 'SQL']\n",
      "After poping a item: ['C++', 'GO', 'Python', 'R Language', 'Ruby', 'javascript', 'GO', 'COBOL', 'SQL']\n"
     ]
    }
   ],
   "source": [
    "#Pop\n",
    "print('Original List is:', MyList)\n",
    "MyList.pop(2)\n",
    "print('After poping a item:',MyList)"
   ]
  },
  {
   "cell_type": "code",
   "execution_count": 70,
   "id": "5010d0fc-8ab2-444b-a42c-a5284387815a",
   "metadata": {},
   "outputs": [
    {
     "name": "stdout",
     "output_type": "stream",
     "text": [
      "Original List is: ['C++', 'GO', 'Python', 'R Language', 'Ruby', 'javascript', 'GO', 'COBOL', 'SQL']\n",
      "After removing a item: ['C++', 'GO', 'R Language', 'Ruby', 'javascript', 'GO', 'COBOL', 'SQL']\n"
     ]
    }
   ],
   "source": [
    "#Remove an item throgh a Slicing\n",
    "print('Original List is:', MyList)\n",
    "MyList= MyList[:2]+MyList[3:]\n",
    "print('After removing a item:',MyList)"
   ]
  },
  {
   "cell_type": "markdown",
   "id": "e4944cb6-ccf1-4d85-a3d0-411a47d828f9",
   "metadata": {},
   "source": [
    "# Modifying a List"
   ]
  },
  {
   "cell_type": "code",
   "execution_count": 71,
   "id": "9462bfe0-6ab1-4956-b190-c3798e213a06",
   "metadata": {},
   "outputs": [
    {
     "name": "stdout",
     "output_type": "stream",
     "text": [
      "Original List is: ['C++', 'GO', 'R Language', 'Ruby', 'javascript', 'GO', 'COBOL', 'SQL']\n",
      "1\n",
      "6\n"
     ]
    }
   ],
   "source": [
    "# Indexing\n",
    "print('Original List is:', MyList)\n",
    "print(MyList.index('GO'))\n",
    "print(MyList.index('COBOL'))"
   ]
  },
  {
   "cell_type": "code",
   "execution_count": 72,
   "id": "b6ef44e9-bf53-48a5-aff6-b3b756bfa997",
   "metadata": {},
   "outputs": [
    {
     "name": "stdout",
     "output_type": "stream",
     "text": [
      "Reverse List is: ['C++', 'GO', 'R Language', 'Ruby', 'javascript', 'GO', 'COBOL', 'SQL']\n"
     ]
    }
   ],
   "source": [
    "# Reversing\n",
    "print('Reverse List is:', MyList)\n",
    "MyList.reverse()"
   ]
  },
  {
   "cell_type": "code",
   "execution_count": 73,
   "id": "45ef259d-2866-4b8d-a002-6ccd51fe788c",
   "metadata": {},
   "outputs": [
    {
     "name": "stdout",
     "output_type": "stream",
     "text": [
      "Original List is: ['SQL', 'COBOL', 'GO', 'javascript', 'Ruby', 'R Language', 'GO', 'C++']\n",
      "['SQL', 'COBOL', 'GO', 'javascript', 'Ruby']\n",
      "['C++', 'GO', 'R Language', 'Ruby', 'javascript', 'GO', 'COBOL', 'SQL']\n",
      "['C++']\n"
     ]
    }
   ],
   "source": [
    "# Slicing\n",
    "print('Original List is:', MyList)\n",
    "print(MyList[:5])\n",
    "print(MyList[::-1])\n",
    "print(MyList[-1:])"
   ]
  },
  {
   "cell_type": "markdown",
   "id": "e09ca213-0db2-4d50-ac71-3bf6e27f244a",
   "metadata": {},
   "source": [
    "# Creating a Dictionary"
   ]
  },
  {
   "cell_type": "code",
   "execution_count": 74,
   "id": "7d486b3a-2ae4-4fd9-9a46-d1fd486c3271",
   "metadata": {},
   "outputs": [
    {
     "name": "stdout",
     "output_type": "stream",
     "text": [
      "{'EmpID': 'EMP101', 'EmpName': 'John', 'EmpAge': 21, 'EmpSalary': 10000}\n"
     ]
    }
   ],
   "source": [
    "Dict= {\"EmpID\":\"EMP101\",\n",
    "       \"EmpName\" : \"John\",\n",
    "       \"EmpAge\" : 21,\n",
    "       \"EmpSalary\" : 10000 }\n",
    "print(Dict)"
   ]
  },
  {
   "cell_type": "code",
   "execution_count": 75,
   "id": "80106305-e0aa-48c3-b771-23416d0e63af",
   "metadata": {},
   "outputs": [
    {
     "name": "stdout",
     "output_type": "stream",
     "text": [
      "EmpID\n",
      "EmpName\n",
      "EmpAge\n",
      "EmpSalary\n",
      "EMP101\n",
      "John\n",
      "21\n",
      "10000\n",
      "EmpID : EMP101\n",
      "EmpName : John\n",
      "EmpAge : 21\n",
      "EmpSalary : 10000\n"
     ]
    }
   ],
   "source": [
    "# Iteration in Dictionary\n",
    "\n",
    "# For Keys\n",
    "for x in Dict:\n",
    "   print(x)\n",
    "    \n",
    "# For Values\n",
    "for x in Dict.values():\n",
    "   print(x)\n",
    "\n",
    "#Using item function\n",
    "for x,y in Dict.items():\n",
    "    print(x,\":\",y)\n",
    "\n",
    "    "
   ]
  },
  {
   "cell_type": "markdown",
   "id": "24904df6-c63b-4b63-aa90-10573a2d90ee",
   "metadata": {},
   "source": [
    "# Modifying a Dictionary"
   ]
  },
  {
   "cell_type": "code",
   "execution_count": 76,
   "id": "e481fb91-0070-4c65-a39a-12d456430a35",
   "metadata": {},
   "outputs": [
    {
     "name": "stdout",
     "output_type": "stream",
     "text": [
      "10000\n",
      "{'EmpID': 'EMP101', 'EmpName': 'John', 'EmpAge': 21, 'EmpSalary': 10000}\n",
      "{'EmpID': 'EMP102', 'EmpName': 'John', 'EmpAge': 22, 'EmpSalary': 10000}\n"
     ]
    }
   ],
   "source": [
    "# Get Function\n",
    "print(Dict.get(\"EmpSalary\"))\n",
    "\n",
    "# Copy Function\n",
    "print(Dict.copy())\n",
    "\n",
    "# Update Function\n",
    "Dict1={'EmpID': 'EMP102', 'EmpAge': 22}\n",
    "Dict.update(Dict1)\n",
    "print(Dict)"
   ]
  },
  {
   "cell_type": "markdown",
   "id": "ac594450-64ff-420d-bfc5-09d2800cf6de",
   "metadata": {},
   "source": [
    "# Removing an Item from Dictionary"
   ]
  },
  {
   "cell_type": "code",
   "execution_count": 77,
   "id": "14f937a4-9c15-4890-9353-5ea0e05d6eb2",
   "metadata": {},
   "outputs": [
    {
     "name": "stdout",
     "output_type": "stream",
     "text": [
      "{'EmpID': 'EMP102', 'EmpAge': 22, 'EmpSalary': 10000}\n",
      "{'EmpID': 'EMP102', 'EmpAge': 22}\n",
      "{}\n"
     ]
    }
   ],
   "source": [
    "# Pop Function\n",
    "Dict.pop(\"EmpName\")\n",
    "print(Dict)\n",
    "\n",
    "# PopItem Function\n",
    "Dict.popitem()\n",
    "print(Dict)\n",
    "\n",
    "# Pop Function\n",
    "Dict.clear()\n",
    "print(Dict)"
   ]
  },
  {
   "cell_type": "markdown",
   "id": "d42bb0b9-d204-4082-8a8c-4523a66faaf3",
   "metadata": {},
   "source": [
    "# Creating a Sets"
   ]
  },
  {
   "cell_type": "code",
   "execution_count": 78,
   "id": "c2ffb78e-4674-4751-968c-09ee0f317c80",
   "metadata": {},
   "outputs": [
    {
     "name": "stdout",
     "output_type": "stream",
     "text": [
      "{'Ironman', 'Captain America', 'Spiderman', 'Hulk'}\n",
      "<class 'set'>\n"
     ]
    }
   ],
   "source": [
    "a = {\"Ironman\",\"Hulk\",\"Captain America\",\"Spiderman\"}\n",
    "print(a)\n",
    "print(type(a))"
   ]
  },
  {
   "cell_type": "markdown",
   "id": "2203886d-96bf-480b-a256-a7cd8387a09a",
   "metadata": {},
   "source": [
    "# Adding a new elements"
   ]
  },
  {
   "cell_type": "code",
   "execution_count": 79,
   "id": "4b76d85c-9b64-4045-a4c9-0f94fa69dd8a",
   "metadata": {},
   "outputs": [
    {
     "name": "stdout",
     "output_type": "stream",
     "text": [
      "{'Ironman', 'Thor', 'Spiderman', 'Hulk', 'Captain America'}\n"
     ]
    }
   ],
   "source": [
    "# Add function\n",
    "a.add(\"Thor\")\n",
    "print(a)"
   ]
  },
  {
   "cell_type": "markdown",
   "id": "d907dd5f-714e-41d7-9199-be63a583b0a3",
   "metadata": {},
   "source": [
    "# Removing an elements"
   ]
  },
  {
   "cell_type": "code",
   "execution_count": 80,
   "id": "8da4c6ac-093d-424f-8151-747b784273de",
   "metadata": {},
   "outputs": [
    {
     "name": "stdout",
     "output_type": "stream",
     "text": [
      "{'Thor', 'Spiderman', 'Hulk', 'Captain America'}\n",
      "{'Spiderman', 'Hulk', 'Captain America'}\n",
      "{'Spiderman', 'Captain America'}\n"
     ]
    }
   ],
   "source": [
    "# Pop function\n",
    "a.pop()\n",
    "print(a)\n",
    "# Remove function\n",
    "a.remove(\"Thor\")\n",
    "print(a)\n",
    "# Discard function\n",
    "a.discard(\"Hulk\")\n",
    "print(a)"
   ]
  },
  {
   "cell_type": "code",
   "execution_count": 81,
   "id": "e114e1bc-f8e7-4e94-8b48-7997ac0f0417",
   "metadata": {},
   "outputs": [
    {
     "name": "stdout",
     "output_type": "stream",
     "text": [
      "False\n",
      "True\n",
      "True\n",
      "{'Ironman', 'Wonder-Woman', 'Batman', 'Spiderman', 'Hulk', 'Captain America', 'Superman'}\n",
      "set()\n"
     ]
    }
   ],
   "source": [
    "# Another functions\n",
    "a = {\"Ironman\",\"Hulk\",\"Captain America\",\"Spiderman\"}\n",
    "b = {\"Superman\",\"Batman\",\"Wonder-Woman\",\"Hulk\"}\n",
    "c = {\"Ironman\",\"Hulk\"}\n",
    "# Disjoint function\n",
    "print(a.isdisjoint(b))\n",
    "# Subset function\n",
    "print(c.issubset(a))\n",
    "# Superset function\n",
    "print(a.issuperset(c))\n",
    "# Update function\n",
    "a.update(b)\n",
    "print(a)\n",
    "# Clear function\n",
    "a.clear()\n",
    "print(a)"
   ]
  }
 ],
 "metadata": {
  "kernelspec": {
   "display_name": "Python 3 (ipykernel)",
   "language": "python",
   "name": "python3"
  },
  "language_info": {
   "codemirror_mode": {
    "name": "ipython",
    "version": 3
   },
   "file_extension": ".py",
   "mimetype": "text/x-python",
   "name": "python",
   "nbconvert_exporter": "python",
   "pygments_lexer": "ipython3",
   "version": "3.11.4"
  }
 },
 "nbformat": 4,
 "nbformat_minor": 5
}
